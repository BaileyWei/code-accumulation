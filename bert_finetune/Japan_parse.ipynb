{
 "cells": [
  {
   "cell_type": "code",
   "execution_count": 1,
   "metadata": {},
   "outputs": [],
   "source": [
    "import os\n",
    "import re"
   ]
  },
  {
   "cell_type": "code",
   "execution_count": 2,
   "metadata": {},
   "outputs": [],
   "source": [
    "markupText_pattern = re.compile(r'<markupText>(.*?)</markupText>')\n",
    "clean_pattern = re.compile('<.*?>')                                "
   ]
  },
  {
   "cell_type": "code",
   "execution_count": 3,
   "metadata": {},
   "outputs": [],
   "source": [
    "dir_names = os.listdir('/data/atom/jp/data')"
   ]
  },
  {
   "cell_type": "code",
   "execution_count": 9,
   "metadata": {},
   "outputs": [],
   "source": [
    "train_file = open('/data/scarlett/Japan/train.txt','w')\n",
    "for dir_name in dir_names:\n",
    "    dir_path = '/data/atom/jp/data/' + dir_name\n",
    "    file_names = os.listdir(dir_path)\n",
    "    for file_name in file_names:\n",
    "        file_path = '/data/atom/jp/data/' + dir_name + '/' + file_name\n",
    "        data = ' '.join(open(file_path).readlines())\n",
    "        markupText = re.findall(markupText_pattern, data)\n",
    "        markupText_ = []\n",
    "        for item in markupText:\n",
    "            item_clean = re.sub(clean_pattern,'',item)\n",
    "            markupText_.append(item_clean)\n",
    "        train_file.write(' '.join(markupText_)+'\\n')"
   ]
  },
  {
   "cell_type": "code",
   "execution_count": 2,
   "metadata": {},
   "outputs": [],
   "source": [
    "import sys\n",
    "import json\n",
    "import pymysql\n",
    "import pandas as pd\n",
    "import collections\n",
    "from sqlalchemy import create_engine\n",
    "conf = {\n",
    "    'user': 'root',\n",
    "    'password': 'rootpwd',\n",
    "    'host': '10.123.4.200',\n",
    "    'port': 3308,\n",
    "    'db': 'muffin_dev',\n",
    "    'charset': 'utf8',\n",
    "}\n",
    "conn = pymysql.connect(**conf)\n",
    "engine = create_engine('mysql+pymysql://', creator=lambda:conn)"
   ]
  },
  {
   "cell_type": "code",
   "execution_count": 3,
   "metadata": {},
   "outputs": [],
   "source": [
    "sql_info = '''\n",
    "select first_table.headline, second_table.provision, second_table.caption, second_table.markup_text from\n",
    "(SELECT document_id, headline FROM muffin_dev.japan_case_info where version = 6)first_table\n",
    "join\n",
    "(SELECT document_id, provision, caption, markup_text FROM muffin_dev.japan_law where version = 6)second_table\n",
    "on\n",
    "first_table.document_id = second_table.document_id\n",
    "'''\n",
    "df_info = pd.read_sql(sql_info,con=engine)"
   ]
  },
  {
   "cell_type": "code",
   "execution_count": 4,
   "metadata": {},
   "outputs": [],
   "source": [
    "df_info = df_info.fillna('')"
   ]
  },
  {
   "cell_type": "code",
   "execution_count": 5,
   "metadata": {},
   "outputs": [
    {
     "data": {
      "text/plain": [
       "(324572, 4)"
      ]
     },
     "execution_count": 5,
     "metadata": {},
     "output_type": "execute_result"
    }
   ],
   "source": [
    "df_info.shape"
   ]
  },
  {
   "cell_type": "code",
   "execution_count": 6,
   "metadata": {},
   "outputs": [
    {
     "data": {
      "text/html": [
       "<div>\n",
       "<style scoped>\n",
       "    .dataframe tbody tr th:only-of-type {\n",
       "        vertical-align: middle;\n",
       "    }\n",
       "\n",
       "    .dataframe tbody tr th {\n",
       "        vertical-align: top;\n",
       "    }\n",
       "\n",
       "    .dataframe thead th {\n",
       "        text-align: right;\n",
       "    }\n",
       "</style>\n",
       "<table border=\"1\" class=\"dataframe\">\n",
       "  <thead>\n",
       "    <tr style=\"text-align: right;\">\n",
       "      <th></th>\n",
       "      <th>headline</th>\n",
       "      <th>provision</th>\n",
       "      <th>caption</th>\n",
       "      <th>markup_text</th>\n",
       "    </tr>\n",
       "  </thead>\n",
       "  <tbody>\n",
       "    <tr>\n",
       "      <td>0</td>\n",
       "      <td>消費者庁の所管する法律の規定に基づく立入検査等の際に携帯する職員の身分を示す証明書の様式の特...</td>\n",
       "      <td></td>\n",
       "      <td></td>\n",
       "      <td>次の各号に掲げる法律の規定（都道府県知事又は市町村長特別区の区長を含む。の事務に係るものに...</td>\n",
       "    </tr>\n",
       "    <tr>\n",
       "      <td>1</td>\n",
       "      <td>占領地軍政官憲ノ為シタル行為ノ法律上ノ効力等ニ関スル法律ノ施行ニ関スル件</td>\n",
       "      <td></td>\n",
       "      <td></td>\n",
       "      <td>１　戸籍、船舶又ハ船員ニ関スル事項ニ付占領地軍政官憲ノ為シタル行為ニシテ戸籍法、民法、船舶法...</td>\n",
       "    </tr>\n",
       "  </tbody>\n",
       "</table>\n",
       "</div>"
      ],
      "text/plain": [
       "                                            headline provision caption  \\\n",
       "0  消費者庁の所管する法律の規定に基づく立入検査等の際に携帯する職員の身分を示す証明書の様式の特...                     \n",
       "1               占領地軍政官憲ノ為シタル行為ノ法律上ノ効力等ニ関スル法律ノ施行ニ関スル件                     \n",
       "\n",
       "                                         markup_text  \n",
       "0  　次の各号に掲げる法律の規定（都道府県知事又は市町村長特別区の区長を含む。の事務に係るものに...  \n",
       "1  １　戸籍、船舶又ハ船員ニ関スル事項ニ付占領地軍政官憲ノ為シタル行為ニシテ戸籍法、民法、船舶法...  "
      ]
     },
     "execution_count": 6,
     "metadata": {},
     "output_type": "execute_result"
    }
   ],
   "source": [
    "df_info.head(2)"
   ]
  },
  {
   "cell_type": "code",
   "execution_count": 16,
   "metadata": {},
   "outputs": [],
   "source": [
    "file_train_all = open('/data/scarlett/Japan/data/train_all_test.txt','w')"
   ]
  },
  {
   "cell_type": "code",
   "execution_count": 17,
   "metadata": {},
   "outputs": [],
   "source": [
    "for item in df_info.iterrows():\n",
    "    file_train_all.write(' '.join([item[1].headline, item[1].caption, item[1].markup_text]) + '\\n')"
   ]
  },
  {
   "cell_type": "code",
   "execution_count": 9,
   "metadata": {},
   "outputs": [],
   "source": [
    "import os\n",
    "prefix = '/home/aidog/workspace/scarlett/Japan/pairwise/data'\n",
    "label_laws = pd.read_excel(os.path.join(prefix,'excel_label_data.xlsx'),dtype='str')"
   ]
  },
  {
   "cell_type": "code",
   "execution_count": 10,
   "metadata": {},
   "outputs": [],
   "source": [
    "label_laws = label_laws[['documenttitle','ChapterTitle','ChapterBody']]"
   ]
  },
  {
   "cell_type": "code",
   "execution_count": 11,
   "metadata": {},
   "outputs": [],
   "source": [
    "label_laws = label_laws.fillna('')"
   ]
  },
  {
   "cell_type": "code",
   "execution_count": 12,
   "metadata": {},
   "outputs": [
    {
     "data": {
      "text/plain": [
       "(9225, 3)"
      ]
     },
     "execution_count": 12,
     "metadata": {},
     "output_type": "execute_result"
    }
   ],
   "source": [
    "label_laws.drop_duplicates().shape"
   ]
  },
  {
   "cell_type": "code",
   "execution_count": 13,
   "metadata": {},
   "outputs": [
    {
     "data": {
      "text/html": [
       "<div>\n",
       "<style scoped>\n",
       "    .dataframe tbody tr th:only-of-type {\n",
       "        vertical-align: middle;\n",
       "    }\n",
       "\n",
       "    .dataframe tbody tr th {\n",
       "        vertical-align: top;\n",
       "    }\n",
       "\n",
       "    .dataframe thead th {\n",
       "        text-align: right;\n",
       "    }\n",
       "</style>\n",
       "<table border=\"1\" class=\"dataframe\">\n",
       "  <thead>\n",
       "    <tr style=\"text-align: right;\">\n",
       "      <th></th>\n",
       "      <th>documenttitle</th>\n",
       "      <th>ChapterTitle</th>\n",
       "      <th>ChapterBody</th>\n",
       "    </tr>\n",
       "  </thead>\n",
       "  <tbody>\n",
       "    <tr>\n",
       "      <td>0</td>\n",
       "      <td>(国内)補給部品・用品販売業務規程</td>\n",
       "      <td></td>\n",
       "      <td>この規程は、年月日から実施する。</td>\n",
       "    </tr>\n",
       "  </tbody>\n",
       "</table>\n",
       "</div>"
      ],
      "text/plain": [
       "       documenttitle ChapterTitle       ChapterBody\n",
       "0  (国内)補給部品・用品販売業務規程               この規程は、年月日から実施する。"
      ]
     },
     "execution_count": 13,
     "metadata": {},
     "output_type": "execute_result"
    }
   ],
   "source": [
    "label_laws.head(1)"
   ]
  },
  {
   "cell_type": "code",
   "execution_count": 14,
   "metadata": {},
   "outputs": [],
   "source": [
    "for item in label_laws.iterrows():\n",
    "    file_train_all.write(' '.join([item[1].documenttitle, item[1].ChapterTitle, item[1].ChapterBody]) + '\\n')"
   ]
  },
  {
   "cell_type": "code",
   "execution_count": 15,
   "metadata": {},
   "outputs": [],
   "source": [
    "file_train_all.close()"
   ]
  },
  {
   "cell_type": "code",
   "execution_count": null,
   "metadata": {},
   "outputs": [],
   "source": []
  }
 ],
 "metadata": {
  "kernelspec": {
   "display_name": "jin(python3)",
   "language": "python",
   "name": "jin"
  },
  "language_info": {
   "codemirror_mode": {
    "name": "ipython",
    "version": 3
   },
   "file_extension": ".py",
   "mimetype": "text/x-python",
   "name": "python",
   "nbconvert_exporter": "python",
   "pygments_lexer": "ipython3",
   "version": "3.6.8"
  }
 },
 "nbformat": 4,
 "nbformat_minor": 2
}
